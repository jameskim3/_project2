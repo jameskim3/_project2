{
 "metadata": {
  "language_info": {
   "codemirror_mode": {
    "name": "ipython",
    "version": 3
   },
   "file_extension": ".py",
   "mimetype": "text/x-python",
   "name": "python",
   "nbconvert_exporter": "python",
   "pygments_lexer": "ipython3",
   "version": 3
  },
  "orig_nbformat": 2,
  "kernelspec": {
   "name": "python_defaultSpec_1596354075577",
   "display_name": "Python 3.7.7 64-bit ('tch': conda)"
  }
 },
 "nbformat": 4,
 "nbformat_minor": 2,
 "cells": [
  {
   "cell_type": "code",
   "execution_count": 1,
   "metadata": {},
   "outputs": [],
   "source": [
    "import numpy as np"
   ]
  },
  {
   "cell_type": "code",
   "execution_count": 1,
   "metadata": {
    "tags": []
   },
   "outputs": [
    {
     "output_type": "error",
     "ename": "NameError",
     "evalue": "name 'np' is not defined",
     "traceback": [
      "\u001b[1;31m---------------------------------------------------------------------------\u001b[0m",
      "\u001b[1;31mNameError\u001b[0m                                 Traceback (most recent call last)",
      "\u001b[1;32m<ipython-input-1-db0e2a3b1330>\u001b[0m in \u001b[0;36m<module>\u001b[1;34m\u001b[0m\n\u001b[0;32m      1\u001b[0m \u001b[0mv1\u001b[0m\u001b[1;33m=\u001b[0m\u001b[1;33m[\u001b[0m\u001b[1;33m]\u001b[0m\u001b[1;33m\u001b[0m\u001b[1;33m\u001b[0m\u001b[0m\n\u001b[0;32m      2\u001b[0m \u001b[1;32mfor\u001b[0m \u001b[0mi\u001b[0m \u001b[1;32min\u001b[0m \u001b[0mrange\u001b[0m\u001b[1;33m(\u001b[0m\u001b[1;36m4\u001b[0m\u001b[1;33m)\u001b[0m\u001b[1;33m:\u001b[0m\u001b[1;33m\u001b[0m\u001b[1;33m\u001b[0m\u001b[0m\n\u001b[1;32m----> 3\u001b[1;33m     \u001b[0mv2\u001b[0m\u001b[1;33m=\u001b[0m\u001b[0mnp\u001b[0m\u001b[1;33m.\u001b[0m\u001b[0mrandom\u001b[0m\u001b[1;33m.\u001b[0m\u001b[0mrandint\u001b[0m\u001b[1;33m(\u001b[0m\u001b[1;36m0\u001b[0m\u001b[1;33m,\u001b[0m\u001b[1;36m100\u001b[0m\u001b[1;33m,\u001b[0m\u001b[1;36m1\u001b[0m\u001b[1;33m+\u001b[0m\u001b[0mi\u001b[0m\u001b[1;33m)\u001b[0m\u001b[1;33m\u001b[0m\u001b[1;33m\u001b[0m\u001b[0m\n\u001b[0m\u001b[0;32m      4\u001b[0m     \u001b[0mprint\u001b[0m\u001b[1;33m(\u001b[0m\u001b[0mv2\u001b[0m\u001b[1;33m)\u001b[0m\u001b[1;33m\u001b[0m\u001b[1;33m\u001b[0m\u001b[0m\n\u001b[0;32m      5\u001b[0m     \u001b[0mv1\u001b[0m\u001b[1;33m.\u001b[0m\u001b[0mappend\u001b[0m\u001b[1;33m(\u001b[0m\u001b[0mnp\u001b[0m\u001b[1;33m.\u001b[0m\u001b[0marray\u001b[0m\u001b[1;33m(\u001b[0m\u001b[0mv2\u001b[0m\u001b[1;33m)\u001b[0m\u001b[1;33m.\u001b[0m\u001b[0mreshape\u001b[0m\u001b[1;33m(\u001b[0m\u001b[1;33m-\u001b[0m\u001b[1;36m1\u001b[0m\u001b[1;33m,\u001b[0m\u001b[1;36m1\u001b[0m\u001b[1;33m)\u001b[0m\u001b[1;33m)\u001b[0m\u001b[1;33m\u001b[0m\u001b[1;33m\u001b[0m\u001b[0m\n",
      "\u001b[1;31mNameError\u001b[0m: name 'np' is not defined"
     ]
    }
   ],
   "source": [
    "v1=[]\n",
    "for i in range(4):\n",
    "    v2=np.random.randint(0,100,1+i)\n",
    "    print(v2)\n",
    "    v1.append(np.array(v2).reshape(-1,1))\n",
    "v1=np.vstack(v1)\n",
    "print(\"vstack\",v1)\n",
    "print(\"shape\",v1.shape)\n"
   ]
  },
  {
   "cell_type": "code",
   "execution_count": 6,
   "metadata": {
    "tags": []
   },
   "outputs": [
    {
     "output_type": "stream",
     "name": "stdout",
     "text": "0.27\n"
    }
   ],
   "source": [
    "preds=np.random.randint(0,4,100)\n",
    "outputs=np.random.randint(0,4,100)\n",
    "acc=np.array(preds==outputs).sum()/len(preds)\n",
    "print(acc)"
   ]
  },
  {
   "cell_type": "code",
   "execution_count": 5,
   "metadata": {
    "tags": []
   },
   "outputs": [
    {
     "output_type": "stream",
     "name": "stdout",
     "text": "[[4 3 3 4 4 1]\n [4 4 0 0 4 2]\n [3 2 0 3 1 2]\n [4 2 3 1 0 0]\n [4 2 0 2 3 3]\n [0 2 2 1 1 3]\n [0 0 0 4 3 3]\n [2 3 1 0 2 1]\n [4 1 1 1 3 4]\n [2 0 0 2 3 2]\n [0 3 1 3 4 4]\n [3 1 3 4 0 0]\n [3 3 1 2 3 3]\n [3 2 2 3 2 1]\n [3 2 3 2 3 2]\n [1 2 2 0 2 2]\n [0 4 3 1 1 4]\n [3 3 1 3 3 3]\n [0 4 4 3 1 2]\n [1 2 3 0 0 3]] [4 4 2 0 2 1 0 1 1 2 3 0 3 2 2 2 1 3 4 0]\n"
    }
   ],
   "source": [
    "d=np.random.randint(0,5,(20,6))\n",
    "c=np.random.randint(0,5,(20,2))\n",
    "f=np.apply_along_axis(lambda x: np.bincount(x).argmax(), axis=1, arr=d)\n",
    "print(d,f)"
   ]
  },
  {
   "cell_type": "code",
   "execution_count": 14,
   "metadata": {
    "tags": []
   },
   "outputs": [
    {
     "output_type": "stream",
     "name": "stdout",
     "text": "[[9 0 7]\n [0 2 2]\n [7 0 2]\n [4 0 3]\n [8 1 9]\n [7 0 9]\n [6 4 3]\n [1 9 1]\n [6 4 9]\n [8 7 4]]\n"
    }
   ],
   "source": [
    "a=np.random.randint(0,10,10)\n",
    "b=np.random.randint(0,10,10)\n",
    "c=np.random.randint(0,10,10)\n",
    "\n",
    "print(np.concatenate((a.reshape(-1,1),b.reshape(-1,1),c.reshape(-1,1)),axis=1))\n"
   ]
  },
  {
   "cell_type": "code",
   "execution_count": 2,
   "metadata": {},
   "outputs": [],
   "source": [
    "import torch\n",
    "import torch.nn as nn\n",
    "import torchvision\n",
    "import efficientnet_pytorch\n",
    "import torchvision.models as models"
   ]
  },
  {
   "cell_type": "code",
   "execution_count": 3,
   "metadata": {},
   "outputs": [],
   "source": [
    "subject = 'H2'\n",
    "main_path = os.path.join(\"E:\\\\kaggle_imgs\", subject)\n",
    "img_path = os.path.join(main_path, \"images\")\n",
    "data_path = os.path.join(main_path, \"Data\")\n",
    "save_path = os.path.join(main_path, \"saved_models\")\n",
    "best_path = save_path+\"/200712.bin\""
   ]
  },
  {
   "cell_type": "code",
   "execution_count": 4,
   "metadata": {},
   "outputs": [],
   "source": [
    "class Resnext50_32x4d(nn.Module):\n",
    "    def __init__(self):\n",
    "        super(Resnext50_32x4d,self).__init__()\n",
    "        self.base_model=torchvision.models.resnext50_32x4d(pretrained=True)\n",
    "        num=self.base_model.fc.in_features\n",
    "        self.base_model.fc=nn.Linear(num,4,bias=True)\n",
    "    def forward(self,image,targets):\n",
    "        out=self.base_model(image)\n",
    "        loss= nn.CrossEntropyLoss()(out,targets)\n",
    "        return out,loss"
   ]
  },
  {
   "cell_type": "code",
   "execution_count": 6,
   "metadata": {
    "tags": []
   },
   "outputs": [],
   "source": [
    "model=torchvision.models.resnext50_32x4d(pretrained=True)\n",
    "num=model.fc.in_features\n",
    "model.fc=nn.Linear(num,4,bias=True)\n",
    "example = torch.rand(1, 3, 224, 224)\n",
    "traced_script_module = torch.jit.trace(model, example)"
   ]
  },
  {
   "cell_type": "code",
   "execution_count": 7,
   "metadata": {
    "tags": []
   },
   "outputs": [
    {
     "output_type": "stream",
     "name": "stdout",
     "text": "tensor([ 0.3009,  0.0319, -0.1869,  0.0048], grad_fn=<SliceBackward>)\n"
    }
   ],
   "source": [
    "output=traced_script_module(torch.ones(1,3,224,224))\n",
    "print(output[0,:5])"
   ]
  },
  {
   "cell_type": "code",
   "execution_count": 25,
   "metadata": {},
   "outputs": [],
   "source": [
    "path=save_path+\"/traced_resnext50_model.pt\"\n",
    "traced_script_module.save(path)"
   ]
  },
  {
   "cell_type": "code",
   "execution_count": null,
   "metadata": {},
   "outputs": [],
   "source": []
  },
  {
   "cell_type": "code",
   "execution_count": null,
   "metadata": {},
   "outputs": [],
   "source": []
  },
  {
   "cell_type": "code",
   "execution_count": null,
   "metadata": {},
   "outputs": [],
   "source": [
    "traced_script_module.save(save_path+\"/traced_resnet_model.pt\")\n"
   ]
  }
 ]
}